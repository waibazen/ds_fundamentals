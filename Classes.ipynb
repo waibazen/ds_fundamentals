{
 "cells": [
  {
   "cell_type": "code",
   "execution_count": 1,
   "id": "f0d7d60e",
   "metadata": {},
   "outputs": [],
   "source": [
    "class Dog:\n",
    "    \"\"\"blue print for a dog\"\"\"\n",
    "    species=[\"canis lupus\"]\n",
    "   \n",
    "    def __init__(self, name, color):\n",
    "    \n",
    "   \n",
    "            self.name=name\n",
    "            self.state=\"sleeping\"\n",
    "            self.color=color\n",
    "    def command(self,x):\n",
    "        if x==self.name:\n",
    "            self.bark(3)\n",
    "        elif x==\"sit\":\n",
    "            self.state=\"sit\"\n",
    "        else :\n",
    "            self.state=\"wag tail\"\n",
    "    def bark(self,freq):\n",
    "        for i in range(freq):\n",
    "            print(\"[\"+self.name+\"]:Woof!\")"
   ]
  },
  {
   "cell_type": "code",
   "execution_count": 2,
   "id": "06904eb5",
   "metadata": {},
   "outputs": [],
   "source": [
    "chummy=Dog(\"chummy\",\"blackish\")\n",
    "dummy=Dog(\"dummy\",\"grayish\")"
   ]
  },
  {
   "cell_type": "code",
   "execution_count": 3,
   "id": "48f6a79e",
   "metadata": {},
   "outputs": [
    {
     "output_type": "stream",
     "name": "stdout",
     "text": [
      "[chummy]:Woof!\n[chummy]:Woof!\n[chummy]:Woof!\n"
     ]
    }
   ],
   "source": [
    "chummy.bark(3)"
   ]
  },
  {
   "cell_type": "code",
   "execution_count": 4,
   "id": "b9f40123",
   "metadata": {},
   "outputs": [
    {
     "output_type": "stream",
     "name": "stdout",
     "text": [
      "None\n"
     ]
    }
   ],
   "source": [
    "print(chummy.command(\"sit\"))"
   ]
  },
  {
   "cell_type": "code",
   "execution_count": 5,
   "id": "ad4dbad7",
   "metadata": {},
   "outputs": [
    {
     "output_type": "stream",
     "name": "stdout",
     "text": [
      "[dummy]:Woof!\n"
     ]
    }
   ],
   "source": [
    "dummy.bark(1)"
   ]
  },
  {
   "cell_type": "code",
   "execution_count": 8,
   "id": "fe2a965a",
   "metadata": {},
   "outputs": [
    {
     "name": "stdout",
     "output_type": "stream",
     "text": [
      "[chummy]:Woof!\n",
      "[chummy]:Woof!\n",
      "[chummy]:Woof!\n"
     ]
    }
   ],
   "source": [
    "chummy.command(\"chummy\")"
   ]
  },
  {
   "cell_type": "code",
   "execution_count": 9,
   "id": "fc2ff9bb",
   "metadata": {},
   "outputs": [],
   "source": [
    "chummy.command(\"no baby no\")"
   ]
  },
  {
   "cell_type": "code",
   "execution_count": 10,
   "id": "a8ea4984",
   "metadata": {},
   "outputs": [
    {
     "name": "stdout",
     "output_type": "stream",
     "text": [
      "wag tail\n"
     ]
    }
   ],
   "source": [
    "print(chummy.state)"
   ]
  },
  {
   "cell_type": "markdown",
   "id": "da11f891",
   "metadata": {},
   "source": [
    "Class of Employees"
   ]
  },
  {
   "cell_type": "code",
   "execution_count": 6,
   "id": "7f12fa1a",
   "metadata": {},
   "outputs": [],
   "source": [
    "class Employee:\n",
    "    raise_amount=1.05\n",
    "    total_emp_count=0\n",
    "    def __init__(self,first,last,pay):\n",
    "        self.first=first\n",
    "        self.last=last\n",
    "        self.pay=pay\n",
    "        self.email=first+last+'@gmail.com'\n",
    "        Employee.total_emp_count+=1\n",
    "    def fullname(self):\n",
    "        return \"{} {}\".format(self.first,self.last)\n",
    "    \n",
    "    def apply_raise(self):\n",
    "        self.pay=int(self.pay*self.raise_amount)"
   ]
  },
  {
   "cell_type": "code",
   "execution_count": 7,
   "id": "ff776a1a",
   "metadata": {},
   "outputs": [],
   "source": [
    "emp_001=Employee('Corey','Booker',5000)\n",
    "emp_002=Employee('Pramila','Jaypal',8000)"
   ]
  },
  {
   "cell_type": "code",
   "execution_count": 8,
   "id": "25052d00",
   "metadata": {},
   "outputs": [
    {
     "output_type": "execute_result",
     "data": {
      "text/plain": [
       "'CoreyBooker@gmail.com'"
      ]
     },
     "metadata": {},
     "execution_count": 8
    }
   ],
   "source": [
    "emp_001.email"
   ]
  },
  {
   "cell_type": "code",
   "execution_count": 9,
   "id": "ef2950b4",
   "metadata": {},
   "outputs": [
    {
     "output_type": "execute_result",
     "data": {
      "text/plain": [
       "'Pramila Jaypal'"
      ]
     },
     "metadata": {},
     "execution_count": 9
    }
   ],
   "source": [
    "emp_002.fullname()"
   ]
  },
  {
   "cell_type": "code",
   "execution_count": null,
   "id": "1fb5a34e",
   "metadata": {},
   "outputs": [],
   "source": [
    "print(emp_001.raise_amount)"
   ]
  },
  {
   "cell_type": "code",
   "execution_count": null,
   "id": "3814992b",
   "metadata": {},
   "outputs": [],
   "source": [
    "print(Employee.__dict__)"
   ]
  },
  {
   "cell_type": "code",
   "execution_count": 10,
   "id": "2a15292f",
   "metadata": {},
   "outputs": [],
   "source": [
    "Employee.raise_amount=1.07#applying clASS VARIABLE DIRECT TO CLASS CHANGES EVERYTHING"
   ]
  },
  {
   "cell_type": "code",
   "execution_count": 11,
   "id": "198256f0",
   "metadata": {},
   "outputs": [
    {
     "output_type": "stream",
     "name": "stdout",
     "text": [
      "{'first': 'Corey', 'last': 'Booker', 'pay': 5000, 'email': 'CoreyBooker@gmail.com'}\n"
     ]
    }
   ],
   "source": [
    "print(emp_001.__dict__)"
   ]
  },
  {
   "cell_type": "code",
   "execution_count": null,
   "id": "e7928f93",
   "metadata": {},
   "outputs": [],
   "source": [
    "print(emp_001.raise_amount)"
   ]
  },
  {
   "cell_type": "code",
   "execution_count": null,
   "id": "e14efc5a",
   "metadata": {},
   "outputs": [],
   "source": [
    "Employee.apply_raise(emp_002)"
   ]
  },
  {
   "cell_type": "code",
   "execution_count": 30,
   "id": "304cc1c7",
   "metadata": {},
   "outputs": [],
   "source": [
    "emp_001.apply_raise()#lets give emp_001 a raise of 7%"
   ]
  },
  {
   "cell_type": "code",
   "execution_count": 31,
   "id": "0b5a0568",
   "metadata": {},
   "outputs": [
    {
     "name": "stdout",
     "output_type": "stream",
     "text": [
      "5500\n",
      "8000\n"
     ]
    }
   ],
   "source": [
    "print(emp_001.pay)\n",
    "print(emp_002.pay)#thats the raise baby"
   ]
  },
  {
   "cell_type": "code",
   "execution_count": 12,
   "id": "c6d827c9",
   "metadata": {},
   "outputs": [
    {
     "output_type": "stream",
     "name": "stdout",
     "text": [
      "total number of employee is.2\n"
     ]
    }
   ],
   "source": [
    "print(f'total number of employee is.{Employee.total_emp_count}')\n"
   ]
  },
  {
   "cell_type": "markdown",
   "id": "d86a8be3",
   "metadata": {},
   "source": [
    "### Class method\n"
   ]
  },
  {
   "cell_type": "code",
   "execution_count": 13,
   "id": "568aff64",
   "metadata": {},
   "outputs": [],
   "source": [
    "class Employees:\n",
    "    raise_amount=1.05\n",
    "    total_emp_count=0\n",
    "    def __init__(self,first,last,pay):\n",
    "        self.first=first\n",
    "        self.last=last\n",
    "        self.pay=pay\n",
    "        self.email=first+last+'@gmail.com'\n",
    "        Employee.total_emp_count+=1\n",
    "    def fullname(self):\n",
    "        return \"{} {}\".format(self.first,self.last)\n",
    "    \n",
    "    def apply_raise(self):\n",
    "        self.pay=int(self.pay*self.raise_amount)\n",
    "        \n",
    "    @classmethod\n",
    "    \n",
    "    def set_raise_amt(cls,amount):\n",
    "        cls.raise_amount=amount\n",
    "    @classmethod\n",
    "    def from_string(cls,emp_str):\n",
    "        first,last,pay=emp_str.split('-')\n",
    "        return cls(first,last,pay)\n",
    "    \n",
    "    "
   ]
  },
  {
   "cell_type": "code",
   "execution_count": 14,
   "id": "9d4fc26b",
   "metadata": {},
   "outputs": [],
   "source": [
    "emps_001=Employees('Corey','Booker',5000)\n",
    "emps_002=Employees('Pramila','Jaypal',8000)\n",
    "\n",
    "emp_str_001='laura-Inagrahm-9000'\n"
   ]
  },
  {
   "cell_type": "code",
   "execution_count": 15,
   "id": "27c981b6",
   "metadata": {},
   "outputs": [],
   "source": [
    "new_emp_str=Employees.from_string(emp_str_001)"
   ]
  },
  {
   "cell_type": "code",
   "execution_count": 16,
   "id": "3c432d93",
   "metadata": {},
   "outputs": [
    {
     "output_type": "stream",
     "name": "stdout",
     "text": [
      "lauraInagrahm@gmail.com\nlaura Inagrahm\nlaura Inagrahm\n9000\n"
     ]
    }
   ],
   "source": [
    "print(new_emp_str.email)\n",
    "print(new_emp_str.fullname())\n",
    "print(Employees.fullname(new_emp_str))\n",
    "print(new_emp_str.pay)"
   ]
  },
  {
   "cell_type": "code",
   "execution_count": 62,
   "id": "1806ee26",
   "metadata": {},
   "outputs": [],
   "source": [
    "Employees.set_raise_amt(1.25)##lets set commisision to 25%#using classmethod to set raise amount#don't find it \n",
    "#useful here similar to Employees.raise_amount=1.25"
   ]
  },
  {
   "cell_type": "code",
   "execution_count": 66,
   "id": "c2534f5d",
   "metadata": {},
   "outputs": [
    {
     "name": "stdout",
     "output_type": "stream",
     "text": [
      "8000\n",
      "1.25\n"
     ]
    }
   ],
   "source": [
    "print(emps_002.pay)\n",
    "print(Employees.raise_amount)"
   ]
  },
  {
   "cell_type": "markdown",
   "id": "b790e367",
   "metadata": {},
   "source": [
    "lets apply raise"
   ]
  },
  {
   "cell_type": "code",
   "execution_count": 67,
   "id": "a4e75307",
   "metadata": {},
   "outputs": [],
   "source": [
    "Employees.apply_raise(emps_001)"
   ]
  },
  {
   "cell_type": "code",
   "execution_count": 68,
   "id": "d8a762e5",
   "metadata": {},
   "outputs": [
    {
     "name": "stdout",
     "output_type": "stream",
     "text": [
      "6250\n"
     ]
    }
   ],
   "source": [
    "print(emps_001.pay)"
   ]
  },
  {
   "cell_type": "markdown",
   "id": "efd19bda",
   "metadata": {},
   "source": [
    "## Creating SubClasses"
   ]
  },
  {
   "cell_type": "code",
   "execution_count": 87,
   "id": "e1ea0e0c",
   "metadata": {},
   "outputs": [],
   "source": [
    "class Developer(Employees):\n",
    "    pass"
   ]
  },
  {
   "cell_type": "code",
   "execution_count": 88,
   "id": "ac78a94a",
   "metadata": {},
   "outputs": [],
   "source": [
    "emp_007=Developer('Corey','Booker',5000)\n",
    "emp_008=Developer('Pramila','Jaypal',8000)"
   ]
  },
  {
   "cell_type": "code",
   "execution_count": 89,
   "id": "bb485829",
   "metadata": {},
   "outputs": [
    {
     "name": "stdout",
     "output_type": "stream",
     "text": [
      "PramilaJaypal@gmail.com\n"
     ]
    }
   ],
   "source": [
    "print(emp_008.email)"
   ]
  },
  {
   "cell_type": "code",
   "execution_count": 90,
   "id": "ba0f8dc7",
   "metadata": {},
   "outputs": [
    {
     "name": "stdout",
     "output_type": "stream",
     "text": [
      "5000\n"
     ]
    }
   ],
   "source": [
    "print(emp_007.pay)"
   ]
  }
 ],
 "metadata": {
  "kernelspec": {
   "name": "python3",
   "display_name": "Python 3.8.8 64-bit ('base': conda)"
  },
  "language_info": {
   "codemirror_mode": {
    "name": "ipython",
    "version": 3
   },
   "file_extension": ".py",
   "mimetype": "text/x-python",
   "name": "python",
   "nbconvert_exporter": "python",
   "pygments_lexer": "ipython3",
   "version": "3.8.8"
  },
  "interpreter": {
   "hash": "4a1356675614241ad146ae35e8c3ed1b527a1fc0a446e359319cca0fc7fc6175"
  }
 },
 "nbformat": 4,
 "nbformat_minor": 5
}