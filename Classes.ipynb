{
 "cells": [
  {
   "cell_type": "code",
   "execution_count": 1,
   "source": [
    "class Dog:\r\n",
    "    \"\"\"blue print for a dog\"\"\"\r\n",
    "    species=[\"canis lupus\"]\r\n",
    "   \r\n",
    "    def __init__(self, name, color):\r\n",
    "    \r\n",
    "   \r\n",
    "            self.name=name\r\n",
    "            self.state=\"sleeping\"\r\n",
    "            self.color=color\r\n",
    "    def command(self,x):\r\n",
    "        if x==self.name:\r\n",
    "            self.bark(3)\r\n",
    "        elif x==\"sit\":\r\n",
    "            self.state=\"sit\"\r\n",
    "        else :\r\n",
    "            self.state=\"wag tail\"\r\n",
    "    def bark(self,freq):\r\n",
    "        for i in range(freq):\r\n",
    "            print(\"[\"+self.name+\"]:Woof!\")"
   ],
   "outputs": [],
   "metadata": {}
  },
  {
   "cell_type": "code",
   "execution_count": 2,
   "source": [
    "chummy=Dog(\"chummy\",\"blackish\")#creating an instance of the Class or Object\r\n",
    "dummy=Dog(\"dummy\",\"grayish\")"
   ],
   "outputs": [],
   "metadata": {}
  },
  {
   "cell_type": "code",
   "execution_count": 3,
   "source": [
    "chummy.bark(3)"
   ],
   "outputs": [
    {
     "output_type": "stream",
     "name": "stdout",
     "text": [
      "[chummy]:Woof!\n",
      "[chummy]:Woof!\n",
      "[chummy]:Woof!\n"
     ]
    }
   ],
   "metadata": {}
  },
  {
   "cell_type": "code",
   "execution_count": 4,
   "source": [
    "print(chummy.command(\"sit\"))"
   ],
   "outputs": [
    {
     "output_type": "stream",
     "name": "stdout",
     "text": [
      "None\n"
     ]
    }
   ],
   "metadata": {}
  },
  {
   "cell_type": "code",
   "execution_count": 5,
   "source": [
    "dummy.bark(1)"
   ],
   "outputs": [
    {
     "output_type": "stream",
     "name": "stdout",
     "text": [
      "[dummy]:Woof!\n"
     ]
    }
   ],
   "metadata": {}
  },
  {
   "cell_type": "code",
   "execution_count": 8,
   "source": [
    "chummy.command(\"chummy\")"
   ],
   "outputs": [
    {
     "output_type": "stream",
     "name": "stdout",
     "text": [
      "[chummy]:Woof!\n",
      "[chummy]:Woof!\n",
      "[chummy]:Woof!\n"
     ]
    }
   ],
   "metadata": {}
  },
  {
   "cell_type": "code",
   "execution_count": 9,
   "source": [
    "chummy.command(\"no baby no\")"
   ],
   "outputs": [],
   "metadata": {}
  },
  {
   "cell_type": "code",
   "execution_count": 10,
   "source": [
    "print(chummy.state)"
   ],
   "outputs": [
    {
     "output_type": "stream",
     "name": "stdout",
     "text": [
      "wag tail\n"
     ]
    }
   ],
   "metadata": {}
  },
  {
   "cell_type": "markdown",
   "source": [
    "Class of Employees"
   ],
   "metadata": {}
  },
  {
   "cell_type": "code",
   "execution_count": 6,
   "source": [
    "class Employee:\r\n",
    "    raise_amount=1.05\r\n",
    "    total_emp_count=0\r\n",
    "    def __init__(self,first,last,pay):\r\n",
    "        self.first=first\r\n",
    "        self.last=last\r\n",
    "        self.pay=pay\r\n",
    "        self.email=first+last+'@gmail.com'\r\n",
    "        Employee.total_emp_count+=1\r\n",
    "    def fullname(self):\r\n",
    "        return \"{} {}\".format(self.first,self.last)\r\n",
    "    \r\n",
    "    def apply_raise(self):\r\n",
    "        self.pay=int(self.pay*self.raise_amount)"
   ],
   "outputs": [],
   "metadata": {}
  },
  {
   "cell_type": "code",
   "execution_count": 7,
   "source": [
    "emp_001=Employee('Corey','Booker',5000)\n",
    "emp_002=Employee('Pramila','Jaypal',8000)"
   ],
   "outputs": [],
   "metadata": {}
  },
  {
   "cell_type": "code",
   "execution_count": 8,
   "source": [
    "emp_001.email"
   ],
   "outputs": [
    {
     "output_type": "execute_result",
     "data": {
      "text/plain": [
       "'CoreyBooker@gmail.com'"
      ]
     },
     "metadata": {},
     "execution_count": 8
    }
   ],
   "metadata": {}
  },
  {
   "cell_type": "code",
   "execution_count": 9,
   "source": [
    "emp_002.fullname()"
   ],
   "outputs": [
    {
     "output_type": "execute_result",
     "data": {
      "text/plain": [
       "'Pramila Jaypal'"
      ]
     },
     "metadata": {},
     "execution_count": 9
    }
   ],
   "metadata": {}
  },
  {
   "cell_type": "code",
   "execution_count": null,
   "source": [
    "print(emp_001.raise_amount)"
   ],
   "outputs": [],
   "metadata": {}
  },
  {
   "cell_type": "code",
   "execution_count": null,
   "source": [
    "print(Employee.__dict__)"
   ],
   "outputs": [],
   "metadata": {}
  },
  {
   "cell_type": "code",
   "execution_count": 10,
   "source": [
    "Employee.raise_amount=1.07#applying clASS VARIABLE DIRECT TO CLASS CHANGES EVERYTHING"
   ],
   "outputs": [],
   "metadata": {}
  },
  {
   "cell_type": "code",
   "execution_count": 11,
   "source": [
    "print(emp_001.__dict__)"
   ],
   "outputs": [
    {
     "output_type": "stream",
     "name": "stdout",
     "text": [
      "{'first': 'Corey', 'last': 'Booker', 'pay': 5000, 'email': 'CoreyBooker@gmail.com'}\n"
     ]
    }
   ],
   "metadata": {}
  },
  {
   "cell_type": "code",
   "execution_count": null,
   "source": [
    "print(emp_001.raise_amount)"
   ],
   "outputs": [],
   "metadata": {}
  },
  {
   "cell_type": "code",
   "execution_count": null,
   "source": [
    "Employee.apply_raise(emp_002)"
   ],
   "outputs": [],
   "metadata": {}
  },
  {
   "cell_type": "code",
   "execution_count": 30,
   "source": [
    "emp_001.apply_raise()#lets give emp_001 a raise of 7%"
   ],
   "outputs": [],
   "metadata": {}
  },
  {
   "cell_type": "code",
   "execution_count": 31,
   "source": [
    "print(emp_001.pay)\n",
    "print(emp_002.pay)#thats the raise baby"
   ],
   "outputs": [
    {
     "output_type": "stream",
     "name": "stdout",
     "text": [
      "5500\n",
      "8000\n"
     ]
    }
   ],
   "metadata": {}
  },
  {
   "cell_type": "code",
   "execution_count": 12,
   "source": [
    "print(f'total number of employee is.{Employee.total_emp_count}')\n"
   ],
   "outputs": [
    {
     "output_type": "stream",
     "name": "stdout",
     "text": [
      "total number of employee is.2\n"
     ]
    }
   ],
   "metadata": {}
  },
  {
   "cell_type": "markdown",
   "source": [
    "### Class method\n"
   ],
   "metadata": {}
  },
  {
   "cell_type": "code",
   "execution_count": 13,
   "source": [
    "class Employees:\n",
    "    raise_amount=1.05\n",
    "    total_emp_count=0\n",
    "    def __init__(self,first,last,pay):\n",
    "        self.first=first\n",
    "        self.last=last\n",
    "        self.pay=pay\n",
    "        self.email=first+last+'@gmail.com'\n",
    "        Employee.total_emp_count+=1\n",
    "    def fullname(self):\n",
    "        return \"{} {}\".format(self.first,self.last)\n",
    "    \n",
    "    def apply_raise(self):\n",
    "        self.pay=int(self.pay*self.raise_amount)\n",
    "        \n",
    "    @classmethod\n",
    "    \n",
    "    def set_raise_amt(cls,amount):\n",
    "        cls.raise_amount=amount\n",
    "    @classmethod\n",
    "    def from_string(cls,emp_str):\n",
    "        first,last,pay=emp_str.split('-')\n",
    "        return cls(first,last,pay)\n",
    "    \n",
    "    "
   ],
   "outputs": [],
   "metadata": {}
  },
  {
   "cell_type": "code",
   "execution_count": 14,
   "source": [
    "emps_001=Employees('Corey','Booker',5000)\n",
    "emps_002=Employees('Pramila','Jaypal',8000)\n",
    "\n",
    "emp_str_001='laura-Inagrahm-9000'\n"
   ],
   "outputs": [],
   "metadata": {}
  },
  {
   "cell_type": "code",
   "execution_count": 15,
   "source": [
    "new_emp_str=Employees.from_string(emp_str_001)"
   ],
   "outputs": [],
   "metadata": {}
  },
  {
   "cell_type": "code",
   "execution_count": 16,
   "source": [
    "print(new_emp_str.email)\n",
    "print(new_emp_str.fullname())\n",
    "print(Employees.fullname(new_emp_str))\n",
    "print(new_emp_str.pay)"
   ],
   "outputs": [
    {
     "output_type": "stream",
     "name": "stdout",
     "text": [
      "lauraInagrahm@gmail.com\n",
      "laura Inagrahm\n",
      "laura Inagrahm\n",
      "9000\n"
     ]
    }
   ],
   "metadata": {}
  },
  {
   "cell_type": "code",
   "execution_count": 62,
   "source": [
    "Employees.set_raise_amt(1.25)##lets set commisision to 25%#using classmethod to set raise amount#don't find it \n",
    "#useful here similar to Employees.raise_amount=1.25"
   ],
   "outputs": [],
   "metadata": {}
  },
  {
   "cell_type": "code",
   "execution_count": 66,
   "source": [
    "print(emps_002.pay)\n",
    "print(Employees.raise_amount)"
   ],
   "outputs": [
    {
     "output_type": "stream",
     "name": "stdout",
     "text": [
      "8000\n",
      "1.25\n"
     ]
    }
   ],
   "metadata": {}
  },
  {
   "cell_type": "markdown",
   "source": [
    "lets apply raise"
   ],
   "metadata": {}
  },
  {
   "cell_type": "code",
   "execution_count": 67,
   "source": [
    "Employees.apply_raise(emps_001)"
   ],
   "outputs": [],
   "metadata": {}
  },
  {
   "cell_type": "code",
   "execution_count": 68,
   "source": [
    "print(emps_001.pay)"
   ],
   "outputs": [
    {
     "output_type": "stream",
     "name": "stdout",
     "text": [
      "6250\n"
     ]
    }
   ],
   "metadata": {}
  },
  {
   "cell_type": "markdown",
   "source": [
    "## Creating SubClasses"
   ],
   "metadata": {}
  },
  {
   "cell_type": "code",
   "execution_count": 87,
   "source": [
    "class Developer(Employees):\n",
    "    pass"
   ],
   "outputs": [],
   "metadata": {}
  },
  {
   "cell_type": "code",
   "execution_count": 88,
   "source": [
    "emp_007=Developer('Corey','Booker',5000)\n",
    "emp_008=Developer('Pramila','Jaypal',8000)"
   ],
   "outputs": [],
   "metadata": {}
  },
  {
   "cell_type": "code",
   "execution_count": 89,
   "source": [
    "print(emp_008.email)"
   ],
   "outputs": [
    {
     "output_type": "stream",
     "name": "stdout",
     "text": [
      "PramilaJaypal@gmail.com\n"
     ]
    }
   ],
   "metadata": {}
  },
  {
   "cell_type": "code",
   "execution_count": 90,
   "source": [
    "print(emp_007.pay)"
   ],
   "outputs": [
    {
     "output_type": "stream",
     "name": "stdout",
     "text": [
      "5000\n"
     ]
    }
   ],
   "metadata": {}
  }
 ],
 "metadata": {
  "interpreter": {
   "hash": "4a1356675614241ad146ae35e8c3ed1b527a1fc0a446e359319cca0fc7fc6175"
  },
  "kernelspec": {
   "display_name": "Python 3",
   "language": "python",
   "name": "python3"
  },
  "language_info": {
   "codemirror_mode": {
    "name": "ipython",
    "version": 3
   },
   "file_extension": ".py",
   "mimetype": "text/x-python",
   "name": "python",
   "nbconvert_exporter": "python",
   "pygments_lexer": "ipython3",
   "version": "3.8.8"
  }
 },
 "nbformat": 4,
 "nbformat_minor": 5
}