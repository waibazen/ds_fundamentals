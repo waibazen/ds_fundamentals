{
 "cells": [
  {
   "cell_type": "markdown",
   "id": "844f3772",
   "metadata": {},
   "source": [
    "## Pandas Dataframe & Data Manipulations"
   ]
  },
  {
   "cell_type": "code",
   "execution_count": 1,
   "id": "179b9747",
   "metadata": {},
   "outputs": [],
   "source": [
    "import numpy as np\n",
    "import pandas as pd\n",
    "import random\n",
    "import string\n"
   ]
  },
  {
   "cell_type": "code",
   "execution_count": 24,
   "id": "4637bc3d",
   "metadata": {},
   "outputs": [
    {
     "output_type": "stream",
     "name": "stdout",
     "text": [
      "{'id': ['0E963', '1GZCU', 'EWN1D', 'BN9QK', '7AMY7', 'WURCB', 'P66XS', 'PAZX1', 'H8IHZ', '50SUE', 'T9RSU', 'DX1Z8', '0FXGH', '6PNRU', 'RAL6C', '21T7L', 'K1L6D', '4PKMM', '3NJIC', 'LZBD2', 'TKDQE', 'ZYWPY', '5ZUX9', 'QBDW0', 'V6OUR', 'ZS926', '71K1E', '85BJR', '9R430', '968AR'], 'roll': array([ 1,  2,  3,  4,  5,  6,  7,  8,  9, 10, 11, 12, 13, 14, 15, 16, 17,\n       18, 19, 20, 21, 22, 23, 24, 25, 26, 27, 28, 29, 30]), 'math_scores': array([68,  9, 32, 63, 83, 86, 73, 83, 94, 76, 42, 57, 43, 71, 14, 18, 37,\n       71,  5,  1, 81, 85, 86, 85, 94, 56, 90, 81, 69, 18]), 'physics_scores': array([23,  2, 88, 60, 36,  3, 65,  1,  5, 82, 32, 15, 99, 94, 95, 94, 98,\n       60, 21, 66, 93, 85, 58, 25, 80, 14,  9, 94, 86, 59]), 'chemistry_scores': array([ 6, 16,  3, 50,  5,  8,  0, 14, 27, 64, 68, 22,  0, 74, 97, 10,  7,\n       78,  0, 99, 52, 31, 76, 74, 88, 88, 51,  1, 49, 70])}\n"
     ]
    }
   ],
   "source": [
    "#Create a dictionary containing ....\n",
    "scores_dict = {\n",
    "    'id': [''.join(random.choices(\n",
    "        string.ascii_uppercase + string.digits, k=5)\n",
    "                 ) for _ in range(30)],\n",
    "    'roll': np.arange(30) + 1,\n",
    "    'math_scores': np.random.randint(100, size=(30)),\n",
    "    'physics_scores': np.random.randint(100, size=(30)),\n",
    "    'chemistry_scores': np.random.randint(100, size=(30))\n",
    "}\n",
    "\n",
    "print(scores_dict)\n"
   ]
  },
  {
   "cell_type": "code",
   "execution_count": 25,
   "id": "bfc1532c",
   "metadata": {},
   "outputs": [
    {
     "output_type": "execute_result",
     "data": {
      "text/plain": [
       "      id  roll  math_scores  physics_scores  chemistry_scores\n",
       "0  0E963     1           68              23                 6\n",
       "1  1GZCU     2            9               2                16\n",
       "2  EWN1D     3           32              88                 3\n",
       "3  BN9QK     4           63              60                50\n",
       "4  7AMY7     5           83              36                 5"
      ],
      "text/html": "<div>\n<style scoped>\n    .dataframe tbody tr th:only-of-type {\n        vertical-align: middle;\n    }\n\n    .dataframe tbody tr th {\n        vertical-align: top;\n    }\n\n    .dataframe thead th {\n        text-align: right;\n    }\n</style>\n<table border=\"1\" class=\"dataframe\">\n  <thead>\n    <tr style=\"text-align: right;\">\n      <th></th>\n      <th>id</th>\n      <th>roll</th>\n      <th>math_scores</th>\n      <th>physics_scores</th>\n      <th>chemistry_scores</th>\n    </tr>\n  </thead>\n  <tbody>\n    <tr>\n      <th>0</th>\n      <td>0E963</td>\n      <td>1</td>\n      <td>68</td>\n      <td>23</td>\n      <td>6</td>\n    </tr>\n    <tr>\n      <th>1</th>\n      <td>1GZCU</td>\n      <td>2</td>\n      <td>9</td>\n      <td>2</td>\n      <td>16</td>\n    </tr>\n    <tr>\n      <th>2</th>\n      <td>EWN1D</td>\n      <td>3</td>\n      <td>32</td>\n      <td>88</td>\n      <td>3</td>\n    </tr>\n    <tr>\n      <th>3</th>\n      <td>BN9QK</td>\n      <td>4</td>\n      <td>63</td>\n      <td>60</td>\n      <td>50</td>\n    </tr>\n    <tr>\n      <th>4</th>\n      <td>7AMY7</td>\n      <td>5</td>\n      <td>83</td>\n      <td>36</td>\n      <td>5</td>\n    </tr>\n  </tbody>\n</table>\n</div>"
     },
     "metadata": {},
     "execution_count": 25
    }
   ],
   "source": [
    "#creating Data frame\n",
    "df=pd.DataFrame(scores_dict)\n",
    "df.head()"
   ]
  },
  {
   "cell_type": "code",
   "execution_count": 26,
   "id": "bf6b5dba",
   "metadata": {},
   "outputs": [
    {
     "output_type": "stream",
     "name": "stdout",
     "text": [
      "<class 'pandas.core.frame.DataFrame'>\nIndex: 30 entries, 0E963 to 968AR\nData columns (total 4 columns):\n #   Column            Non-Null Count  Dtype\n---  ------            --------------  -----\n 0   roll              30 non-null     int64\n 1   math_scores       30 non-null     int64\n 2   physics_scores    30 non-null     int64\n 3   chemistry_scores  30 non-null     int64\ndtypes: int64(4)\nmemory usage: 1.2+ KB\n"
     ]
    }
   ],
   "source": [
    "df.set_index('id',inplace=True)###blahahah so need to assign to keep the changes !!\n",
    "df.info()"
   ]
  },
  {
   "cell_type": "code",
   "execution_count": 27,
   "id": "39a6f4ea",
   "metadata": {},
   "outputs": [
    {
     "output_type": "execute_result",
     "data": {
      "text/plain": [
       "array([[ 1, 68, 23,  6],\n",
       "       [ 2,  9,  2, 16],\n",
       "       [ 3, 32, 88,  3],\n",
       "       [ 4, 63, 60, 50],\n",
       "       [ 5, 83, 36,  5],\n",
       "       [ 6, 86,  3,  8],\n",
       "       [ 7, 73, 65,  0],\n",
       "       [ 8, 83,  1, 14],\n",
       "       [ 9, 94,  5, 27],\n",
       "       [10, 76, 82, 64],\n",
       "       [11, 42, 32, 68],\n",
       "       [12, 57, 15, 22],\n",
       "       [13, 43, 99,  0],\n",
       "       [14, 71, 94, 74],\n",
       "       [15, 14, 95, 97],\n",
       "       [16, 18, 94, 10],\n",
       "       [17, 37, 98,  7],\n",
       "       [18, 71, 60, 78],\n",
       "       [19,  5, 21,  0],\n",
       "       [20,  1, 66, 99],\n",
       "       [21, 81, 93, 52],\n",
       "       [22, 85, 85, 31],\n",
       "       [23, 86, 58, 76],\n",
       "       [24, 85, 25, 74],\n",
       "       [25, 94, 80, 88],\n",
       "       [26, 56, 14, 88],\n",
       "       [27, 90,  9, 51],\n",
       "       [28, 81, 94,  1],\n",
       "       [29, 69, 86, 49],\n",
       "       [30, 18, 59, 70]])"
      ]
     },
     "metadata": {},
     "execution_count": 27
    }
   ],
   "source": [
    "#convert to 2d arrays\n",
    "df.values\n"
   ]
  },
  {
   "cell_type": "markdown",
   "id": "e439f1ce",
   "metadata": {},
   "source": [
    "Indexes iloc,loc\n"
   ]
  },
  {
   "cell_type": "code",
   "execution_count": 28,
   "id": "2a9bbed0",
   "metadata": {},
   "outputs": [
    {
     "output_type": "execute_result",
     "data": {
      "text/plain": [
       "roll                 2\n",
       "math_scores          9\n",
       "physics_scores       2\n",
       "chemistry_scores    16\n",
       "Name: 1GZCU, dtype: int64"
      ]
     },
     "metadata": {},
     "execution_count": 28
    }
   ],
   "source": [
    "df.iloc[1]"
   ]
  },
  {
   "cell_type": "code",
   "execution_count": 29,
   "id": "756e7650",
   "metadata": {},
   "outputs": [
    {
     "output_type": "execute_result",
     "data": {
      "text/plain": [
       "       physics_scores  chemistry_scores\n",
       "id                                     \n",
       "0E963              23                 6\n",
       "1GZCU               2                16\n",
       "EWN1D              88                 3\n",
       "BN9QK              60                50\n",
       "7AMY7              36                 5"
      ],
      "text/html": "<div>\n<style scoped>\n    .dataframe tbody tr th:only-of-type {\n        vertical-align: middle;\n    }\n\n    .dataframe tbody tr th {\n        vertical-align: top;\n    }\n\n    .dataframe thead th {\n        text-align: right;\n    }\n</style>\n<table border=\"1\" class=\"dataframe\">\n  <thead>\n    <tr style=\"text-align: right;\">\n      <th></th>\n      <th>physics_scores</th>\n      <th>chemistry_scores</th>\n    </tr>\n    <tr>\n      <th>id</th>\n      <th></th>\n      <th></th>\n    </tr>\n  </thead>\n  <tbody>\n    <tr>\n      <th>0E963</th>\n      <td>23</td>\n      <td>6</td>\n    </tr>\n    <tr>\n      <th>1GZCU</th>\n      <td>2</td>\n      <td>16</td>\n    </tr>\n    <tr>\n      <th>EWN1D</th>\n      <td>88</td>\n      <td>3</td>\n    </tr>\n    <tr>\n      <th>BN9QK</th>\n      <td>60</td>\n      <td>50</td>\n    </tr>\n    <tr>\n      <th>7AMY7</th>\n      <td>36</td>\n      <td>5</td>\n    </tr>\n  </tbody>\n</table>\n</div>"
     },
     "metadata": {},
     "execution_count": 29
    }
   ],
   "source": [
    "df.iloc[:5,-2:]#first 5 rows and last 2 columns"
   ]
  },
  {
   "cell_type": "code",
   "execution_count": 31,
   "id": "f49e6bb3",
   "metadata": {},
   "outputs": [
    {
     "output_type": "execute_result",
     "data": {
      "text/plain": [
       "id\n",
       "0E963    23\n",
       "1GZCU     2\n",
       "EWN1D    88\n",
       "BN9QK    60\n",
       "7AMY7    36\n",
       "WURCB     3\n",
       "P66XS    65\n",
       "PAZX1     1\n",
       "H8IHZ     5\n",
       "50SUE    82\n",
       "T9RSU    32\n",
       "DX1Z8    15\n",
       "0FXGH    99\n",
       "6PNRU    94\n",
       "RAL6C    95\n",
       "21T7L    94\n",
       "K1L6D    98\n",
       "4PKMM    60\n",
       "3NJIC    21\n",
       "LZBD2    66\n",
       "TKDQE    93\n",
       "ZYWPY    85\n",
       "5ZUX9    58\n",
       "QBDW0    25\n",
       "V6OUR    80\n",
       "ZS926    14\n",
       "71K1E     9\n",
       "85BJR    94\n",
       "9R430    86\n",
       "968AR    59\n",
       "Name: physics_scores, dtype: int64"
      ]
     },
     "metadata": {},
     "execution_count": 31
    }
   ],
   "source": [
    "df.loc[:,'physics_scores']"
   ]
  },
  {
   "cell_type": "code",
   "execution_count": 35,
   "id": "fbb6a16f",
   "metadata": {},
   "outputs": [
    {
     "output_type": "execute_result",
     "data": {
      "text/plain": [
       "65"
      ]
     },
     "metadata": {},
     "execution_count": 35
    }
   ],
   "source": [
    "df.loc['P66XS','physics_scores']#differnet id is generated everytime you run so be careful"
   ]
  },
  {
   "cell_type": "code",
   "execution_count": 36,
   "id": "a2ed1c53",
   "metadata": {},
   "outputs": [
    {
     "output_type": "execute_result",
     "data": {
      "text/plain": [
       "       roll  math_scores  physics_scores  chemistry_scores\n",
       "id                                                        \n",
       "0E963     1           68              23                 6\n",
       "1GZCU     2            9               2                16\n",
       "EWN1D     3           32              88                 3\n",
       "BN9QK     4           63              60                50\n",
       "7AMY7     5           83              36                 5"
      ],
      "text/html": "<div>\n<style scoped>\n    .dataframe tbody tr th:only-of-type {\n        vertical-align: middle;\n    }\n\n    .dataframe tbody tr th {\n        vertical-align: top;\n    }\n\n    .dataframe thead th {\n        text-align: right;\n    }\n</style>\n<table border=\"1\" class=\"dataframe\">\n  <thead>\n    <tr style=\"text-align: right;\">\n      <th></th>\n      <th>roll</th>\n      <th>math_scores</th>\n      <th>physics_scores</th>\n      <th>chemistry_scores</th>\n    </tr>\n    <tr>\n      <th>id</th>\n      <th></th>\n      <th></th>\n      <th></th>\n      <th></th>\n    </tr>\n  </thead>\n  <tbody>\n    <tr>\n      <th>0E963</th>\n      <td>1</td>\n      <td>68</td>\n      <td>23</td>\n      <td>6</td>\n    </tr>\n    <tr>\n      <th>1GZCU</th>\n      <td>2</td>\n      <td>9</td>\n      <td>2</td>\n      <td>16</td>\n    </tr>\n    <tr>\n      <th>EWN1D</th>\n      <td>3</td>\n      <td>32</td>\n      <td>88</td>\n      <td>3</td>\n    </tr>\n    <tr>\n      <th>BN9QK</th>\n      <td>4</td>\n      <td>63</td>\n      <td>60</td>\n      <td>50</td>\n    </tr>\n    <tr>\n      <th>7AMY7</th>\n      <td>5</td>\n      <td>83</td>\n      <td>36</td>\n      <td>5</td>\n    </tr>\n  </tbody>\n</table>\n</div>"
     },
     "metadata": {},
     "execution_count": 36
    }
   ],
   "source": [
    "df.head()"
   ]
  },
  {
   "cell_type": "code",
   "execution_count": 38,
   "id": "df3eca00",
   "metadata": {},
   "outputs": [
    {
     "output_type": "stream",
     "name": "stdout",
     "text": [
      "       roll  math_scores  physics_scores  chemistry_scores\nid                                                        \n0E963     1           68              23                 6\n1GZCU     2            9               2                16\nEWN1D     3           32              88                 3\nBN9QK     4           63              60                50\n7AMY7     5           83              36                 5\n"
     ]
    }
   ],
   "source": [
    "print(df.iloc[:5,:])\n",
    "#give me first rows for all the columns #index problems #same as df.head()"
   ]
  },
  {
   "cell_type": "code",
   "execution_count": 39,
   "id": "dab7a16e",
   "metadata": {},
   "outputs": [
    {
     "output_type": "execute_result",
     "data": {
      "text/plain": [
       "       physics_scores  chemistry_scores\n",
       "id                                     \n",
       "0E963              23                 6\n",
       "1GZCU               2                16\n",
       "EWN1D              88                 3\n",
       "BN9QK              60                50\n",
       "7AMY7              36                 5\n",
       "WURCB               3                 8\n",
       "P66XS              65                 0"
      ],
      "text/html": "<div>\n<style scoped>\n    .dataframe tbody tr th:only-of-type {\n        vertical-align: middle;\n    }\n\n    .dataframe tbody tr th {\n        vertical-align: top;\n    }\n\n    .dataframe thead th {\n        text-align: right;\n    }\n</style>\n<table border=\"1\" class=\"dataframe\">\n  <thead>\n    <tr style=\"text-align: right;\">\n      <th></th>\n      <th>physics_scores</th>\n      <th>chemistry_scores</th>\n    </tr>\n    <tr>\n      <th>id</th>\n      <th></th>\n      <th></th>\n    </tr>\n  </thead>\n  <tbody>\n    <tr>\n      <th>0E963</th>\n      <td>23</td>\n      <td>6</td>\n    </tr>\n    <tr>\n      <th>1GZCU</th>\n      <td>2</td>\n      <td>16</td>\n    </tr>\n    <tr>\n      <th>EWN1D</th>\n      <td>88</td>\n      <td>3</td>\n    </tr>\n    <tr>\n      <th>BN9QK</th>\n      <td>60</td>\n      <td>50</td>\n    </tr>\n    <tr>\n      <th>7AMY7</th>\n      <td>36</td>\n      <td>5</td>\n    </tr>\n    <tr>\n      <th>WURCB</th>\n      <td>3</td>\n      <td>8</td>\n    </tr>\n    <tr>\n      <th>P66XS</th>\n      <td>65</td>\n      <td>0</td>\n    </tr>\n  </tbody>\n</table>\n</div>"
     },
     "metadata": {},
     "execution_count": 39
    }
   ],
   "source": [
    "df.loc[:'P66XS','physics_scores':]\n",
    "#Give me rows until this id and columns after physics_score#unlike indices labels are inclusive\n"
   ]
  },
  {
   "cell_type": "code",
   "execution_count": null,
   "id": "a936cd88",
   "metadata": {},
   "outputs": [],
   "source": []
  }
 ],
 "metadata": {
  "kernelspec": {
   "name": "python3",
   "display_name": "Python 3.8.8 64-bit ('base': conda)"
  },
  "language_info": {
   "codemirror_mode": {
    "name": "ipython",
    "version": 3
   },
   "file_extension": ".py",
   "mimetype": "text/x-python",
   "name": "python",
   "nbconvert_exporter": "python",
   "pygments_lexer": "ipython3",
   "version": "3.8.8"
  },
  "interpreter": {
   "hash": "4a1356675614241ad146ae35e8c3ed1b527a1fc0a446e359319cca0fc7fc6175"
  }
 },
 "nbformat": 4,
 "nbformat_minor": 5
}