{
 "cells": [
  {
   "cell_type": "code",
   "execution_count": 4,
   "id": "f93de29b",
   "metadata": {},
   "outputs": [],
   "source": [
    "import numpy as np"
   ]
  },
  {
   "cell_type": "code",
   "execution_count": 2,
   "id": "028822d1",
   "metadata": {},
   "outputs": [
    {
     "data": {
      "text/plain": [
       "array([1, 3, 5])"
      ]
     },
     "execution_count": 2,
     "metadata": {},
     "output_type": "execute_result"
    }
   ],
   "source": [
    "#creating numpy arrays\n",
    "a_list=[1,3,5]\n",
    "np.array(a_list)"
   ]
  },
  {
   "cell_type": "code",
   "execution_count": 6,
   "id": "0e0e32b0",
   "metadata": {},
   "outputs": [
    {
     "data": {
      "text/plain": [
       "array([1, 2, 3, 4, 5, 6, 7, 8, 9])"
      ]
     },
     "execution_count": 6,
     "metadata": {},
     "output_type": "execute_result"
    }
   ],
   "source": [
    "np.arange(1,10,1)"
   ]
  },
  {
   "cell_type": "code",
   "execution_count": 7,
   "id": "805d486b",
   "metadata": {},
   "outputs": [
    {
     "data": {
      "text/plain": [
       "array([ 1. ,  5.5, 10. ])"
      ]
     },
     "execution_count": 7,
     "metadata": {},
     "output_type": "execute_result"
    }
   ],
   "source": [
    "np.linspace(1,10,3)"
   ]
  },
  {
   "cell_type": "code",
   "execution_count": 8,
   "id": "c039b0a7",
   "metadata": {},
   "outputs": [
    {
     "data": {
      "text/plain": [
       "array([[ 1.75575841,  1.7606978 ],\n",
       "       [ 0.12293106, -0.81040121]])"
      ]
     },
     "execution_count": 8,
     "metadata": {},
     "output_type": "execute_result"
    }
   ],
   "source": [
    "np.random.normal(0,1,(2,2))#2-d random normal distribuition numpy array whose mean is @0,sd=1"
   ]
  },
  {
   "cell_type": "code",
   "execution_count": 16,
   "id": "4c24edca",
   "metadata": {},
   "outputs": [],
   "source": [
    "#creating 3 random arrays 1d,2d,3d\n",
    "np.random.seed(0)\n",
    "arr1=np.random.randint(10,size=6)\n",
    "arr2=np.random.randint(10,size=(3,4))\n",
    "arr3=np.random.randint(10,size=(3,4,5))#3 rows 4 cols & 5 elements of the list"
   ]
  },
  {
   "cell_type": "code",
   "execution_count": 12,
   "id": "911a43d5",
   "metadata": {},
   "outputs": [
    {
     "name": "stdout",
     "output_type": "stream",
     "text": [
      "1 D array:\n",
      " [5 0 3 3 7 9]\n"
     ]
    }
   ],
   "source": [
    "print(\"1 D array:\\n\",arr1)"
   ]
  },
  {
   "cell_type": "code",
   "execution_count": 14,
   "id": "f4cb34a7",
   "metadata": {},
   "outputs": [
    {
     "name": "stdout",
     "output_type": "stream",
     "text": [
      "[5 0 3 3 7 9]\n"
     ]
    }
   ],
   "source": [
    "print(arr1)"
   ]
  },
  {
   "cell_type": "code",
   "execution_count": 13,
   "id": "4fabe7d4",
   "metadata": {},
   "outputs": [
    {
     "name": "stdout",
     "output_type": "stream",
     "text": [
      "last element of 1D :\n",
      " 9\n"
     ]
    }
   ],
   "source": [
    "print(\"last element of 1D :\\n\",arr1[-1])#slicing & dicing"
   ]
  },
  {
   "cell_type": "code",
   "execution_count": 17,
   "id": "f07b7521",
   "metadata": {},
   "outputs": [
    {
     "name": "stdout",
     "output_type": "stream",
     "text": [
      "2d array:\n",
      " [[3 5 2 4]\n",
      " [7 6 8 8]\n",
      " [1 6 7 7]]\n"
     ]
    }
   ],
   "source": [
    "print('2d array:\\n',arr2)"
   ]
  },
  {
   "cell_type": "code",
   "execution_count": 19,
   "id": "7825bce5",
   "metadata": {},
   "outputs": [
    {
     "name": "stdout",
     "output_type": "stream",
     "text": [
      "slicing 2d array to get 2nd and 3nd row:\n",
      " [[7 6 8 8]\n",
      " [1 6 7 7]]\n"
     ]
    }
   ],
   "source": [
    "print('slicing 2d array to get 2nd and 3nd row:\\n',arr2[1:])"
   ]
  },
  {
   "cell_type": "code",
   "execution_count": 21,
   "id": "39ed8d5b",
   "metadata": {},
   "outputs": [
    {
     "name": "stdout",
     "output_type": "stream",
     "text": [
      "need alternate cols:\n",
      " [[3 2]\n",
      " [7 8]\n",
      " [1 7]]\n"
     ]
    }
   ],
   "source": [
    "print('need alternate cols:\\n',arr2[:,::2])"
   ]
  },
  {
   "cell_type": "markdown",
   "id": "3e5c0b42",
   "metadata": {},
   "source": [
    "comparison & masking"
   ]
  },
  {
   "cell_type": "code",
   "execution_count": 22,
   "id": "baa8835c",
   "metadata": {},
   "outputs": [],
   "source": [
    "ar=np.array([1,2,3,4])"
   ]
  },
  {
   "cell_type": "code",
   "execution_count": 23,
   "id": "f6d70172",
   "metadata": {},
   "outputs": [
    {
     "data": {
      "text/plain": [
       "array([False, False, False,  True])"
      ]
     },
     "execution_count": 23,
     "metadata": {},
     "output_type": "execute_result"
    }
   ],
   "source": [
    "ar>=4"
   ]
  },
  {
   "cell_type": "code",
   "execution_count": 28,
   "id": "a96c842f",
   "metadata": {},
   "outputs": [
    {
     "data": {
      "text/plain": [
       "array([[3, 2, 3, 4],\n",
       "       [1, 2, 9, 1],\n",
       "       [4, 6, 8, 2]])"
      ]
     },
     "execution_count": 28,
     "metadata": {},
     "output_type": "execute_result"
    }
   ],
   "source": [
    "arr=np.random.randint(10,size=(3,4))\n",
    "arr"
   ]
  },
  {
   "cell_type": "code",
   "execution_count": 26,
   "id": "bf096aa1",
   "metadata": {},
   "outputs": [
    {
     "data": {
      "text/plain": [
       "0"
      ]
     },
     "execution_count": 26,
     "metadata": {},
     "output_type": "execute_result"
    }
   ],
   "source": [
    "np.sum(arr>9)"
   ]
  },
  {
   "cell_type": "code",
   "execution_count": 34,
   "id": "d70db7ca",
   "metadata": {},
   "outputs": [
    {
     "data": {
      "text/plain": [
       "False"
      ]
     },
     "execution_count": 34,
     "metadata": {},
     "output_type": "execute_result"
    }
   ],
   "source": [
    "np.all(arr>=9)"
   ]
  },
  {
   "cell_type": "code",
   "execution_count": 33,
   "id": "9b512bb5",
   "metadata": {},
   "outputs": [
    {
     "data": {
      "text/plain": [
       "True"
      ]
     },
     "execution_count": 33,
     "metadata": {},
     "output_type": "execute_result"
    }
   ],
   "source": [
    "np.any(arr>=9)"
   ]
  },
  {
   "cell_type": "markdown",
   "id": "7e2703f3",
   "metadata": {},
   "source": [
    "# Masking\n"
   ]
  },
  {
   "cell_type": "code",
   "execution_count": 36,
   "id": "6dcfd033",
   "metadata": {},
   "outputs": [
    {
     "data": {
      "text/plain": [
       "array([96,  4, 67, 11, 86, 77, 75, 56, 16, 24, 29, 21, 25, 80, 60, 61, 83,\n",
       "       33, 32, 70, 85, 31, 13, 71, 56, 24, 79, 41, 18, 40])"
      ]
     },
     "execution_count": 36,
     "metadata": {},
     "output_type": "execute_result"
    }
   ],
   "source": [
    "test_scores=np.random.randint(100,size=(30))\n",
    "test_scores"
   ]
  },
  {
   "cell_type": "code",
   "execution_count": 37,
   "id": "23fb1a9d",
   "metadata": {},
   "outputs": [
    {
     "data": {
      "text/plain": [
       "array([96, 67, 86, 77, 75, 56, 80, 60, 61, 83, 70, 85, 71, 56, 79, 41, 40])"
      ]
     },
     "execution_count": 37,
     "metadata": {},
     "output_type": "execute_result"
    }
   ],
   "source": [
    "mask=test_scores>35#pass\n",
    "test_scores[mask]"
   ]
  }
 ],
 "metadata": {
  "kernelspec": {
   "display_name": "Python 3",
   "language": "python",
   "name": "python3"
  },
  "language_info": {
   "codemirror_mode": {
    "name": "ipython",
    "version": 3
   },
   "file_extension": ".py",
   "mimetype": "text/x-python",
   "name": "python",
   "nbconvert_exporter": "python",
   "pygments_lexer": "ipython3",
   "version": "3.8.8"
  }
 },
 "nbformat": 4,
 "nbformat_minor": 5
}
